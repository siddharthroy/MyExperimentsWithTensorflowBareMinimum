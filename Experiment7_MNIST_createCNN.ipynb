{
 "cells": [
  {
   "cell_type": "markdown",
   "metadata": {},
   "source": [
    " # Build CNN from scratch using tensorflow and use on MNIST"
   ]
  },
  {
   "cell_type": "code",
   "execution_count": 1,
   "metadata": {},
   "outputs": [],
   "source": [
    "import numpy as np\n",
    "import tensorflow as tf\n",
    "from tensorflow.examples.tutorials.mnist import input_data"
   ]
  },
  {
   "cell_type": "code",
   "execution_count": 2,
   "metadata": {
    "scrolled": true
   },
   "outputs": [
    {
     "name": "stdout",
     "output_type": "stream",
     "text": [
      "WARNING:tensorflow:From <ipython-input-2-ffe5abcbdfa8>:2: read_data_sets (from tensorflow.contrib.learn.python.learn.datasets.mnist) is deprecated and will be removed in a future version.\n",
      "Instructions for updating:\n",
      "Please use alternatives such as official/mnist/dataset.py from tensorflow/models.\n",
      "WARNING:tensorflow:From C:\\ProgramData\\Anaconda3\\envs\\t\\lib\\site-packages\\tensorflow\\contrib\\learn\\python\\learn\\datasets\\mnist.py:260: maybe_download (from tensorflow.contrib.learn.python.learn.datasets.base) is deprecated and will be removed in a future version.\n",
      "Instructions for updating:\n",
      "Please write your own downloading logic.\n",
      "WARNING:tensorflow:From C:\\ProgramData\\Anaconda3\\envs\\t\\lib\\site-packages\\tensorflow\\contrib\\learn\\python\\learn\\datasets\\mnist.py:262: extract_images (from tensorflow.contrib.learn.python.learn.datasets.mnist) is deprecated and will be removed in a future version.\n",
      "Instructions for updating:\n",
      "Please use tf.data to implement this functionality.\n",
      "Extracting MNIST_data/train-images-idx3-ubyte.gz\n",
      "WARNING:tensorflow:From C:\\ProgramData\\Anaconda3\\envs\\t\\lib\\site-packages\\tensorflow\\contrib\\learn\\python\\learn\\datasets\\mnist.py:267: extract_labels (from tensorflow.contrib.learn.python.learn.datasets.mnist) is deprecated and will be removed in a future version.\n",
      "Instructions for updating:\n",
      "Please use tf.data to implement this functionality.\n",
      "Extracting MNIST_data/train-labels-idx1-ubyte.gz\n",
      "WARNING:tensorflow:From C:\\ProgramData\\Anaconda3\\envs\\t\\lib\\site-packages\\tensorflow\\contrib\\learn\\python\\learn\\datasets\\mnist.py:110: dense_to_one_hot (from tensorflow.contrib.learn.python.learn.datasets.mnist) is deprecated and will be removed in a future version.\n",
      "Instructions for updating:\n",
      "Please use tf.one_hot on tensors.\n",
      "Extracting MNIST_data/t10k-images-idx3-ubyte.gz\n",
      "Extracting MNIST_data/t10k-labels-idx1-ubyte.gz\n",
      "WARNING:tensorflow:From C:\\ProgramData\\Anaconda3\\envs\\t\\lib\\site-packages\\tensorflow\\contrib\\learn\\python\\learn\\datasets\\mnist.py:290: DataSet.__init__ (from tensorflow.contrib.learn.python.learn.datasets.mnist) is deprecated and will be removed in a future version.\n",
      "Instructions for updating:\n",
      "Please use alternatives such as official/mnist/dataset.py from tensorflow/models.\n"
     ]
    }
   ],
   "source": [
    "# Import MNIST data from tensflow. Already downloaded and stored in MNIST_data folder\n",
    "mnist = input_data.read_data_sets(\"MNIST_data/\",one_hot=True)"
   ]
  },
  {
   "cell_type": "code",
   "execution_count": 3,
   "metadata": {},
   "outputs": [
    {
     "data": {
      "text/plain": [
       "55000"
      ]
     },
     "execution_count": 3,
     "metadata": {},
     "output_type": "execute_result"
    }
   ],
   "source": [
    "mnist.train.num_examples"
   ]
  },
  {
   "cell_type": "code",
   "execution_count": 4,
   "metadata": {},
   "outputs": [
    {
     "data": {
      "text/plain": [
       "(784,)"
      ]
     },
     "execution_count": 4,
     "metadata": {},
     "output_type": "execute_result"
    }
   ],
   "source": [
    "mnist.train.images[1].shape"
   ]
  },
  {
   "cell_type": "code",
   "execution_count": 5,
   "metadata": {},
   "outputs": [],
   "source": [
    "tf.reset_default_graph()"
   ]
  },
  {
   "cell_type": "markdown",
   "metadata": {},
   "source": [
    "# Build CNN graph"
   ]
  },
  {
   "cell_type": "code",
   "execution_count": 6,
   "metadata": {},
   "outputs": [],
   "source": [
    "image_2d = tf.placeholder(tf.float32, name=\"images_one_by_one\")"
   ]
  },
  {
   "cell_type": "code",
   "execution_count": 7,
   "metadata": {},
   "outputs": [
    {
     "data": {
      "text/plain": [
       "(9, 3)"
      ]
     },
     "execution_count": 7,
     "metadata": {},
     "output_type": "execute_result"
    }
   ],
   "source": [
    "# Parameters\n",
    "s = 3\n",
    "L1_max_horizontal_iter = int((28-3)/s + 1)\n",
    "L2_max_horizontal_iter = int((L1_max_horizontal_iter-3)/s + 1)\n",
    "\n",
    "L1_max_horizontal_iter, L2_max_horizontal_iter"
   ]
  },
  {
   "cell_type": "code",
   "execution_count": 8,
   "metadata": {},
   "outputs": [],
   "source": [
    "kernals_L1 = tf.Variable(np.random.rand(3,3,5), dtype=tf.float32, name=\"layer1_kernals\")      # 5 filters (3x3) in layer1\n",
    "kernals_L2 = tf.Variable(np.random.rand(3,3,5, 2), dtype=tf.float32, name=\"layer2_kernals\")   # 2 filters (3x3x5) in layer2"
   ]
  },
  {
   "cell_type": "code",
   "execution_count": 9,
   "metadata": {},
   "outputs": [],
   "source": [
    "B1 = tf.Variable(np.random.rand(5), name=\"L1_biases\")    # 5 biases, one each for filters in layer1\n",
    "B2 = tf.Variable(np.random.rand(2), name=\"L2_biases\")    # 2 biases, one each for filters in layer2"
   ]
  },
  {
   "cell_type": "markdown",
   "metadata": {},
   "source": [
    "## Build DAG"
   ]
  },
  {
   "cell_type": "markdown",
   "metadata": {},
   "source": [
    "### CNN Layer1"
   ]
  },
  {
   "cell_type": "code",
   "execution_count": 11,
   "metadata": {},
   "outputs": [],
   "source": [
    "# Activation Map: Layer1. Activation map is NOT VARIABLE. It's just club of tensorflow ops.\n",
    "\n",
    "one_kernal_op_list = []\n",
    "for kernal_idx in range(5):\n",
    "    kernal = kernals_L1[:,:,kernal_idx]\n",
    "    \n",
    "    h_op_list = []\n",
    "    for h_stride in range(L1_max_horizontal_iter):\n",
    "        v_op_list = []\n",
    "        for v_stride in range(L1_max_horizontal_iter):\n",
    "            \n",
    "            image_patch = image_2d[v_stride*s:(v_stride+1)*s, h_stride*s:(h_stride+1)*s]\n",
    "            \n",
    "            v_op_list.append(tf.reduce_sum(kernal * image_patch))     # Activation map, single element (reduce_sum is imp)\n",
    "            \n",
    "        v_strip_activation = tf.stack(v_op_list, axis=0, name=\"v_strip_activation\")\n",
    "        h_op_list.append(v_strip_activation)\n",
    "        \n",
    "    h_strip_activation = tf.stack(h_op_list, axis=1, name=\"h_strip_activation\")\n",
    "    one_kernal_op_list.append(h_strip_activation)\n",
    "    \n",
    "L1_act_map = tf.stack(one_kernal_op_list, axis=2, name = \"L1_act_map\")\n",
    "            "
   ]
  },
  {
   "cell_type": "code",
   "execution_count": 12,
   "metadata": {},
   "outputs": [
    {
     "data": {
      "text/plain": [
       "<tf.Tensor 'L1_act_map:0' shape=(9, 9, 5) dtype=float32>"
      ]
     },
     "execution_count": 12,
     "metadata": {},
     "output_type": "execute_result"
    }
   ],
   "source": [
    "L1_act_map"
   ]
  },
  {
   "cell_type": "code",
   "execution_count": 13,
   "metadata": {},
   "outputs": [
    {
     "data": {
      "text/plain": [
       "[<tf.Variable 'layer1_kernals:0' shape=(3, 3, 5) dtype=float32_ref>,\n",
       " <tf.Variable 'layer2_kernals:0' shape=(3, 3, 5, 2) dtype=float32_ref>,\n",
       " <tf.Variable 'L1_biases:0' shape=(5,) dtype=float64_ref>,\n",
       " <tf.Variable 'L2_biases:0' shape=(2,) dtype=float64_ref>]"
      ]
     },
     "execution_count": 13,
     "metadata": {},
     "output_type": "execute_result"
    }
   ],
   "source": [
    "tf.get_collection(tf.GraphKeys.GLOBAL_VARIABLES)     # Assuring that Activation map is not Variable"
   ]
  },
  {
   "cell_type": "code",
   "execution_count": 14,
   "metadata": {},
   "outputs": [],
   "source": [
    "# Activation Map: Layer2\n",
    "\n",
    "one_kernal_op_list = []\n",
    "for kernal_idx in range(2):\n",
    "    kernal_2 = kernals_L2[:,:, :, kernal_idx]      # filter here is 3D\n",
    "    \n",
    "    h_op_list = []\n",
    "    for h_stride in range(L2_max_horizontal_iter):\n",
    "        v_op_list = []\n",
    "        for v_stride in range(L2_max_horizontal_iter):\n",
    "            \n",
    "            L1_act_vol_patch = L1_act_map[v_stride*s:(v_stride+1)*s, h_stride*s:(h_stride+1)*s, : ]\n",
    "            \n",
    "            v_op_list.append(tf.reduce_sum(kernal_2 * L1_act_vol_patch))     # Activation map, single element (reduce_sum is imp)\n",
    "            \n",
    "        v_strip_activation_2 = tf.stack(v_op_list, axis=0, name=\"v_strip_activation_L2\")\n",
    "        h_op_list.append(v_strip_activation_2)\n",
    "        \n",
    "    h_strip_activation_2 = tf.stack(h_op_list, axis=1, name=\"h_strip_activation_L2\")\n",
    "    one_kernal_op_list.append(h_strip_activation_2)\n",
    "    \n",
    "L2_act_map = tf.stack(one_kernal_op_list, axis=2, name = \"L2_act_map\")\n",
    "            "
   ]
  },
  {
   "cell_type": "code",
   "execution_count": 15,
   "metadata": {},
   "outputs": [
    {
     "data": {
      "text/plain": [
       "TensorShape([Dimension(2), Dimension(18)])"
      ]
     },
     "execution_count": 15,
     "metadata": {},
     "output_type": "execute_result"
    }
   ],
   "source": [
    "# Flatten the final activation map\n",
    "L2_act_map_ = tf.stack([L2_act_map,L2_act_map], axis=0)    # False creation of batch_size=2. Required for flatten() op\n",
    "L2_flattend = tf.contrib.layers.flatten(L2_act_map_)        # O/P shape is [batch_size, k]\n",
    "L2_flattend.get_shape()"
   ]
  },
  {
   "cell_type": "code",
   "execution_count": 16,
   "metadata": {},
   "outputs": [
    {
     "data": {
      "text/plain": [
       "TensorShape([Dimension(1), Dimension(18)])"
      ]
     },
     "execution_count": 16,
     "metadata": {},
     "output_type": "execute_result"
    }
   ],
   "source": [
    "L2_flattend = L2_flattend[0,:]       # Just the Flattened activation map for one image only. But rank is reduced by 1\n",
    "L2_flattend = tf.reshape(L2_flattend, shape=(1,-1))    # Restoring the rank\n",
    "L2_flattend.get_shape()"
   ]
  },
  {
   "cell_type": "markdown",
   "metadata": {},
   "source": [
    "# FC or DNN"
   ]
  },
  {
   "cell_type": "markdown",
   "metadata": {},
   "source": [
    "# Graph for DNN (Just One layer with 10 neurons) \n",
    "**18 L2_flatten outputs feed into it**"
   ]
  },
  {
   "cell_type": "code",
   "execution_count": 17,
   "metadata": {},
   "outputs": [],
   "source": [
    "Y_OHE_true = tf.placeholder(tf.float32, [None,10], name = \"Y_OHE_true\")   # Thougt we will just use one row at a time here"
   ]
  },
  {
   "cell_type": "code",
   "execution_count": 18,
   "metadata": {},
   "outputs": [],
   "source": [
    "W = tf.Variable(np.random.rand(18,10), dtype=tf.float32, name=\"W\")\n",
    "B = tf.Variable(np.random.rand(10), dtype=tf.float32, name=\"B\")"
   ]
  },
  {
   "cell_type": "code",
   "execution_count": 19,
   "metadata": {
    "scrolled": true
   },
   "outputs": [],
   "source": [
    "# DAG\n",
    "Z = tf.add(tf.matmul(L2_flattend,W),B, name=\"Z\")   # 10 outputs, one for each digit"
   ]
  },
  {
   "cell_type": "code",
   "execution_count": 20,
   "metadata": {},
   "outputs": [],
   "source": [
    "#loss\n",
    "loss = tf.nn.softmax_cross_entropy_with_logits_v2(logits=Z, labels=Y_OHE_true, name=\"loss\")  # loss Per image"
   ]
  },
  {
   "cell_type": "code",
   "execution_count": 21,
   "metadata": {},
   "outputs": [],
   "source": [
    "# Optimizer\n",
    "optimizer = tf.train.AdamOptimizer(learning_rate=0.001)\n",
    "set_to_optimize = optimizer.minimize(loss,name=\"To_Be_Optimized\")"
   ]
  },
  {
   "cell_type": "code",
   "execution_count": 24,
   "metadata": {},
   "outputs": [],
   "source": [
    "summ = tf.summary.scalar(\"loss\", loss[0])"
   ]
  },
  {
   "cell_type": "code",
   "execution_count": 25,
   "metadata": {},
   "outputs": [],
   "source": [
    "writer = tf.summary.FileWriter(logdir=\"./graph\", graph=tf.get_default_graph())"
   ]
  },
  {
   "cell_type": "code",
   "execution_count": 48,
   "metadata": {},
   "outputs": [],
   "source": [
    "init = tf.global_variables_initializer()\n",
    "sess = tf.Session()\n",
    "sess.run(init)"
   ]
  },
  {
   "cell_type": "code",
   "execution_count": 49,
   "metadata": {
    "scrolled": true
   },
   "outputs": [],
   "source": [
    "for i in range(1000):    # Train on 1000 images\n",
    "    batch_x , batch_y = mnist.train.next_batch(1)   # Leveraging inbuilt mini-batch generator . One at a time\n",
    "    batch_x = batch_x.reshape(28,28)\n",
    "    sess.run(set_to_optimize, feed_dict={image_2d:batch_x, Y_OHE_true:batch_y})\n",
    "    s_buffer = sess.run(summ, feed_dict={image_2d:batch_x, Y_OHE_true:batch_y})    # loss on every image\n",
    "    writer.add_summary(s_buffer, i)\n",
    "    "
   ]
  },
  {
   "cell_type": "code",
   "execution_count": 50,
   "metadata": {
    "scrolled": false
   },
   "outputs": [
    {
     "data": {
      "text/plain": [
       "array([0.60315555], dtype=float32)"
      ]
     },
     "execution_count": 50,
     "metadata": {},
     "output_type": "execute_result"
    }
   ],
   "source": [
    "sess.run(loss, feed_dict={image_2d:batch_x, Y_OHE_true:batch_y})      # Loss value on last image (i.e. 1000th one)"
   ]
  },
  {
   "cell_type": "code",
   "execution_count": null,
   "metadata": {
    "scrolled": true
   },
   "outputs": [],
   "source": [
    "predictions = np.zeros(10000)\n",
    "for i in range(10000):\n",
    "    predictions[i] = sess.run(tf.argmax(Z, axis=1), feed_dict={image_2d:mnist.test.images[i].reshape([28,28])})\n",
    "    print(i, end=\"\\r\")"
   ]
  },
  {
   "cell_type": "code",
   "execution_count": 46,
   "metadata": {},
   "outputs": [
    {
     "data": {
      "text/plain": [
       "3296.0"
      ]
     },
     "execution_count": 46,
     "metadata": {},
     "output_type": "execute_result"
    }
   ],
   "source": [
    "predictions.sum()"
   ]
  },
  {
   "cell_type": "code",
   "execution_count": 41,
   "metadata": {},
   "outputs": [
    {
     "data": {
      "text/plain": [
       "array([False, False, False, ..., False, False, False])"
      ]
     },
     "execution_count": 41,
     "metadata": {},
     "output_type": "execute_result"
    }
   ],
   "source": [
    "acc = (predictions == np.argmax(mnist.test.labels,axis=1))\n",
    "acc"
   ]
  },
  {
   "cell_type": "code",
   "execution_count": null,
   "metadata": {},
   "outputs": [],
   "source": [
    "acc.mean()"
   ]
  },
  {
   "cell_type": "code",
   "execution_count": null,
   "metadata": {},
   "outputs": [],
   "source": []
  },
  {
   "cell_type": "code",
   "execution_count": 52,
   "metadata": {},
   "outputs": [],
   "source": [
    "sess.close()\n",
    "writer.close()"
   ]
  },
  {
   "cell_type": "code",
   "execution_count": null,
   "metadata": {},
   "outputs": [],
   "source": []
  }
 ],
 "metadata": {
  "kernelspec": {
   "display_name": "Python 3",
   "language": "python",
   "name": "python3"
  },
  "language_info": {
   "codemirror_mode": {
    "name": "ipython",
    "version": 3
   },
   "file_extension": ".py",
   "mimetype": "text/x-python",
   "name": "python",
   "nbconvert_exporter": "python",
   "pygments_lexer": "ipython3",
   "version": "3.6.7"
  }
 },
 "nbformat": 4,
 "nbformat_minor": 2
}
