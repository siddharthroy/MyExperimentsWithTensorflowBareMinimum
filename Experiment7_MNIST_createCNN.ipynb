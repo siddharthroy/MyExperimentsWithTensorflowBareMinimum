{
 "cells": [
  {
   "cell_type": "markdown",
   "metadata": {},
   "source": [
    " # Build CNN from scratch using tensorflow and use on MNIST\n",
    " Introducing:\n",
    " - tf.stack()\n",
    " - tf.get_collection()    &nbsp; &nbsp; &nbsp; &nbsp;  # list down all variables that exist in current graph\n",
    " - tf.layers.flatten()\n",
    " - tf.reshape()\n",
    " - tf.transpose()"
   ]
  },
  {
   "cell_type": "code",
   "execution_count": 1,
   "metadata": {},
   "outputs": [],
   "source": [
    "import numpy as np\n",
    "import tensorflow as tf\n",
    "from tensorflow.examples.tutorials.mnist import input_data"
   ]
  },
  {
   "cell_type": "code",
   "execution_count": 2,
   "metadata": {
    "scrolled": true
   },
   "outputs": [
    {
     "name": "stdout",
     "output_type": "stream",
     "text": [
      "WARNING:tensorflow:From <ipython-input-2-ffe5abcbdfa8>:2: read_data_sets (from tensorflow.contrib.learn.python.learn.datasets.mnist) is deprecated and will be removed in a future version.\n",
      "Instructions for updating:\n",
      "Please use alternatives such as official/mnist/dataset.py from tensorflow/models.\n",
      "WARNING:tensorflow:From C:\\ProgramData\\Anaconda3\\envs\\t\\lib\\site-packages\\tensorflow\\contrib\\learn\\python\\learn\\datasets\\mnist.py:260: maybe_download (from tensorflow.contrib.learn.python.learn.datasets.base) is deprecated and will be removed in a future version.\n",
      "Instructions for updating:\n",
      "Please write your own downloading logic.\n",
      "WARNING:tensorflow:From C:\\ProgramData\\Anaconda3\\envs\\t\\lib\\site-packages\\tensorflow\\contrib\\learn\\python\\learn\\datasets\\mnist.py:262: extract_images (from tensorflow.contrib.learn.python.learn.datasets.mnist) is deprecated and will be removed in a future version.\n",
      "Instructions for updating:\n",
      "Please use tf.data to implement this functionality.\n",
      "Extracting MNIST_data/train-images-idx3-ubyte.gz\n",
      "WARNING:tensorflow:From C:\\ProgramData\\Anaconda3\\envs\\t\\lib\\site-packages\\tensorflow\\contrib\\learn\\python\\learn\\datasets\\mnist.py:267: extract_labels (from tensorflow.contrib.learn.python.learn.datasets.mnist) is deprecated and will be removed in a future version.\n",
      "Instructions for updating:\n",
      "Please use tf.data to implement this functionality.\n",
      "Extracting MNIST_data/train-labels-idx1-ubyte.gz\n",
      "WARNING:tensorflow:From C:\\ProgramData\\Anaconda3\\envs\\t\\lib\\site-packages\\tensorflow\\contrib\\learn\\python\\learn\\datasets\\mnist.py:110: dense_to_one_hot (from tensorflow.contrib.learn.python.learn.datasets.mnist) is deprecated and will be removed in a future version.\n",
      "Instructions for updating:\n",
      "Please use tf.one_hot on tensors.\n",
      "Extracting MNIST_data/t10k-images-idx3-ubyte.gz\n",
      "Extracting MNIST_data/t10k-labels-idx1-ubyte.gz\n",
      "WARNING:tensorflow:From C:\\ProgramData\\Anaconda3\\envs\\t\\lib\\site-packages\\tensorflow\\contrib\\learn\\python\\learn\\datasets\\mnist.py:290: DataSet.__init__ (from tensorflow.contrib.learn.python.learn.datasets.mnist) is deprecated and will be removed in a future version.\n",
      "Instructions for updating:\n",
      "Please use alternatives such as official/mnist/dataset.py from tensorflow/models.\n"
     ]
    }
   ],
   "source": [
    "# Import MNIST data from tensflow. Already downloaded and stored in MNIST_data folder\n",
    "mnist = input_data.read_data_sets(\"MNIST_data/\",one_hot=True)"
   ]
  },
  {
   "cell_type": "code",
   "execution_count": 3,
   "metadata": {},
   "outputs": [
    {
     "data": {
      "text/plain": [
       "55000"
      ]
     },
     "execution_count": 3,
     "metadata": {},
     "output_type": "execute_result"
    }
   ],
   "source": [
    "mnist.train.num_examples"
   ]
  },
  {
   "cell_type": "code",
   "execution_count": 4,
   "metadata": {},
   "outputs": [
    {
     "data": {
      "text/plain": [
       "(784,)"
      ]
     },
     "execution_count": 4,
     "metadata": {},
     "output_type": "execute_result"
    }
   ],
   "source": [
    "mnist.train.images[1].shape"
   ]
  },
  {
   "cell_type": "code",
   "execution_count": 13,
   "metadata": {},
   "outputs": [],
   "source": [
    "tf.reset_default_graph()"
   ]
  },
  {
   "cell_type": "markdown",
   "metadata": {},
   "source": [
    "# Build CNN graph"
   ]
  },
  {
   "cell_type": "code",
   "execution_count": 14,
   "metadata": {},
   "outputs": [],
   "source": [
    "image_batch = tf.placeholder(tf.float32, shape=[None,784], name=\"images_mini_batch\")"
   ]
  },
  {
   "cell_type": "code",
   "execution_count": 15,
   "metadata": {},
   "outputs": [
    {
     "data": {
      "text/plain": [
       "TensorShape([Dimension(None), Dimension(28), Dimension(28)])"
      ]
     },
     "execution_count": 15,
     "metadata": {},
     "output_type": "execute_result"
    }
   ],
   "source": [
    "image_batch_reshaped = tf.reshape(image_batch, shape=[-1, 28, 28])\n",
    "image_batch_reshaped.shape"
   ]
  },
  {
   "cell_type": "code",
   "execution_count": 16,
   "metadata": {},
   "outputs": [
    {
     "data": {
      "text/plain": [
       "(9, 3)"
      ]
     },
     "execution_count": 16,
     "metadata": {},
     "output_type": "execute_result"
    }
   ],
   "source": [
    "# Parameters\n",
    "s = 3\n",
    "L1_max_horizontal_iter = int((28-3)/s + 1)\n",
    "L2_max_horizontal_iter = int((L1_max_horizontal_iter-3)/s + 1)\n",
    "\n",
    "L1_max_horizontal_iter, L2_max_horizontal_iter"
   ]
  },
  {
   "cell_type": "code",
   "execution_count": 17,
   "metadata": {},
   "outputs": [],
   "source": [
    "kernals_L1 = tf.Variable(np.random.rand(3,3,5), dtype=tf.float32, name=\"layer1_kernals\")      # 5 filters (3x3) in layer1\n",
    "kernals_L2 = tf.Variable(np.random.rand(3,3,5, 10), dtype=tf.float32, name=\"layer2_kernals\")  # 10 filters (3x3x5) in layer2"
   ]
  },
  {
   "cell_type": "code",
   "execution_count": 18,
   "metadata": {},
   "outputs": [],
   "source": [
    "B1 = tf.Variable(np.random.rand(5), name=\"L1_biases\")    # 5 biases, one each for filters in layer1\n",
    "B2 = tf.Variable(np.random.rand(10), name=\"L2_biases\")   # 10 biases, one each for filters in layer2"
   ]
  },
  {
   "cell_type": "markdown",
   "metadata": {},
   "source": [
    "## Build DAG"
   ]
  },
  {
   "cell_type": "markdown",
   "metadata": {},
   "source": [
    "### CNN Layer1"
   ]
  },
  {
   "cell_type": "code",
   "execution_count": 19,
   "metadata": {},
   "outputs": [],
   "source": [
    "# Activation Map: Layer1. Activation map is NOT VARIABLE. It's just club of tensorflow ops.\n",
    "\n",
    "L1_act_list = []\n",
    "for kernal_idx in range(5):     # Iterate on each filter from layer1\n",
    "    kernal = kernals_L1[:,:,kernal_idx]\n",
    "    \n",
    "    v_op_list = []\n",
    "    for v_stride in range(L1_max_horizontal_iter):\n",
    "        h_op_list = []\n",
    "        for h_stride in range(L1_max_horizontal_iter):\n",
    "            \n",
    "            image_patch = image_batch_reshaped[:, v_stride*s:(v_stride+1)*s, h_stride*s:(h_stride+1)*s ]   # Full mini batch is patched\n",
    "            \n",
    "            h_op_list.append(tf.reduce_sum(kernal * image_patch, axis=[1,2]))     # Broadcasting used. (reduce_sum is imp)\n",
    "        \n",
    "        v_op_list.append(h_op_list)     # Finally one full sheet for each image is created. Depth = number of images\n",
    "    \n",
    "    one_kernal_act = tf.stack(v_op_list, name=\"stacked_one_kernal\")    # Just covert to tensor \n",
    "    L1_act_list.append(one_kernal_act)\n",
    "\n",
    "L1_act_map = tf.stack(L1_act_list, axis=3, name = \"L1_act_map\")  # All activation maps corresponding to every kernal standing parallel to each other."
   ]
  },
  {
   "cell_type": "code",
   "execution_count": 20,
   "metadata": {},
   "outputs": [
    {
     "data": {
      "text/plain": [
       "<tf.Tensor 'L1_act_map:0' shape=(9, 9, ?, 5) dtype=float32>"
      ]
     },
     "execution_count": 20,
     "metadata": {},
     "output_type": "execute_result"
    }
   ],
   "source": [
    "L1_act_map    # Every of 5 kernals has got its own pillar now. Next layer kernals will have one sub-layer for each pillar"
   ]
  },
  {
   "cell_type": "code",
   "execution_count": 21,
   "metadata": {},
   "outputs": [
    {
     "data": {
      "text/plain": [
       "[<tf.Variable 'layer1_kernals:0' shape=(3, 3, 5) dtype=float32_ref>,\n",
       " <tf.Variable 'layer2_kernals:0' shape=(3, 3, 5, 10) dtype=float32_ref>,\n",
       " <tf.Variable 'L1_biases:0' shape=(5,) dtype=float64_ref>,\n",
       " <tf.Variable 'L2_biases:0' shape=(10,) dtype=float64_ref>]"
      ]
     },
     "execution_count": 21,
     "metadata": {},
     "output_type": "execute_result"
    }
   ],
   "source": [
    "tf.get_collection(tf.GraphKeys.GLOBAL_VARIABLES)     # Assuring that Activation map is not Variable"
   ]
  },
  {
   "cell_type": "code",
   "execution_count": 22,
   "metadata": {},
   "outputs": [],
   "source": [
    "# Activation Map: Layer2. Activation map is NOT VARIABLE. It's just club of tensorflow ops.\n",
    "\n",
    "L2_act_list = []\n",
    "for kernal_idx in range(10):     # Iterate on each filter from layer2\n",
    "    kernal = kernals_L2[:,:,:, kernal_idx]           # Single filer of size 3x3x5 is picked\n",
    "    kernal = tf.reshape(kernal, shape=[3,3,1,5], name=\"kernal_reshaped\")   #3x3x1x5.  One Sub-layer for every pillar\n",
    "    \n",
    "    v_op_list = []\n",
    "    for v_stride in range(L2_max_horizontal_iter):\n",
    "        h_op_list = []\n",
    "        for h_stride in range(L2_max_horizontal_iter):\n",
    "            \n",
    "            L1_patch = L1_act_map[v_stride*s:(v_stride+1)*s, h_stride*s:(h_stride+1)*s, :, : ]   # One Full mini batch. 3x3x?x5\n",
    "            \n",
    "            h_op_list.append(tf.reduce_sum(kernal * L1_patch, axis=[0,1,3]))     # Broadcasting used. (reduce_sum is imp)\n",
    "        \n",
    "        v_op_list.append(h_op_list)     \n",
    "    \n",
    "    one_kernal_act = tf.stack(v_op_list, name=\"stacked_one_kernal\")    # Just covert to tensor 3x3x?\n",
    "    L2_act_list.append(one_kernal_act)\n",
    "\n",
    "L2_act_map = tf.stack(L2_act_list, axis=3, name = \"L2_act_map\")"
   ]
  },
  {
   "cell_type": "code",
   "execution_count": 23,
   "metadata": {},
   "outputs": [
    {
     "data": {
      "text/plain": [
       "TensorShape([Dimension(3), Dimension(3), Dimension(None), Dimension(10)])"
      ]
     },
     "execution_count": 23,
     "metadata": {},
     "output_type": "execute_result"
    }
   ],
   "source": [
    "L2_act_map.shape"
   ]
  },
  {
   "cell_type": "code",
   "execution_count": 24,
   "metadata": {},
   "outputs": [
    {
     "data": {
      "text/plain": [
       "TensorShape([Dimension(None), Dimension(3), Dimension(3), Dimension(10)])"
      ]
     },
     "execution_count": 24,
     "metadata": {},
     "output_type": "execute_result"
    }
   ],
   "source": [
    "L2_act_map = tf.transpose(L2_act_map, perm=[2,0,1,3])   # Bring the batch dimention to the front, to align it to original input format\n",
    "L2_act_map.shape"
   ]
  },
  {
   "cell_type": "code",
   "execution_count": 25,
   "metadata": {},
   "outputs": [
    {
     "data": {
      "text/plain": [
       "TensorShape([Dimension(None), Dimension(90)])"
      ]
     },
     "execution_count": 25,
     "metadata": {},
     "output_type": "execute_result"
    }
   ],
   "source": [
    "# Flatten the final activation map\n",
    "L2_flattend = tf.layers.flatten(L2_act_map)        # O/P shape is [batch_size, k]\n",
    "L2_flattend.shape"
   ]
  },
  {
   "cell_type": "markdown",
   "metadata": {},
   "source": [
    "# FC or DNN"
   ]
  },
  {
   "cell_type": "markdown",
   "metadata": {},
   "source": [
    "# Graph for DNN (Just One layer with 10 neurons) \n",
    "**90 L2_flatten outputs feed into it**"
   ]
  },
  {
   "cell_type": "code",
   "execution_count": 26,
   "metadata": {},
   "outputs": [],
   "source": [
    "Y_OHE_true = tf.placeholder(tf.float32, [None,10], name = \"Y_OHE_true\")   # Y_true for the mini batch"
   ]
  },
  {
   "cell_type": "code",
   "execution_count": 27,
   "metadata": {},
   "outputs": [],
   "source": [
    "W = tf.Variable(np.random.rand(90,10), dtype=tf.float32, name=\"W\")\n",
    "B = tf.Variable(np.random.rand(10), dtype=tf.float32, name=\"B\")"
   ]
  },
  {
   "cell_type": "code",
   "execution_count": 28,
   "metadata": {
    "scrolled": true
   },
   "outputs": [],
   "source": [
    "# DAG\n",
    "Z = tf.add(tf.matmul(L2_flattend,W),B, name=\"Z\")   # Mini-batch output. 10 outputs (10 digits) for each image"
   ]
  },
  {
   "cell_type": "code",
   "execution_count": 29,
   "metadata": {},
   "outputs": [],
   "source": [
    "#loss\n",
    "loss = tf.nn.softmax_cross_entropy_with_logits_v2(logits=Z, labels=Y_OHE_true, name=\"loss\")  # losses of all images. for mini-batch"
   ]
  },
  {
   "cell_type": "code",
   "execution_count": 30,
   "metadata": {},
   "outputs": [
    {
     "data": {
      "text/plain": [
       "TensorShape([Dimension(None)])"
      ]
     },
     "execution_count": 30,
     "metadata": {},
     "output_type": "execute_result"
    }
   ],
   "source": [
    "loss.shape"
   ]
  },
  {
   "cell_type": "code",
   "execution_count": 31,
   "metadata": {},
   "outputs": [],
   "source": [
    "cost = tf.reduce_mean(loss)"
   ]
  },
  {
   "cell_type": "code",
   "execution_count": 32,
   "metadata": {},
   "outputs": [],
   "source": [
    "# Optimizer\n",
    "optimizer = tf.train.AdamOptimizer(learning_rate=0.001)\n",
    "set_to_optimize = optimizer.minimize(cost,name=\"To_Be_Optimized\")"
   ]
  },
  {
   "cell_type": "code",
   "execution_count": 33,
   "metadata": {},
   "outputs": [],
   "source": [
    "summ = tf.summary.scalar(\"cost\", cost)"
   ]
  },
  {
   "cell_type": "code",
   "execution_count": 34,
   "metadata": {},
   "outputs": [],
   "source": [
    "writer = tf.summary.FileWriter(logdir=\"./graph\", graph=tf.get_default_graph())"
   ]
  },
  {
   "cell_type": "code",
   "execution_count": 35,
   "metadata": {},
   "outputs": [],
   "source": [
    "init = tf.global_variables_initializer()\n",
    "sess = tf.Session()\n",
    "sess.run(init)"
   ]
  },
  {
   "cell_type": "code",
   "execution_count": 41,
   "metadata": {
    "scrolled": true
   },
   "outputs": [],
   "source": [
    "batch_size=1000\n",
    "\n",
    "for i in range(1000):    # Train iterations\n",
    "    batch_x , batch_y = mnist.train.next_batch(batch_size)   # Leveraging inbuilt mini-batch generator\n",
    "    sess.run(set_to_optimize, feed_dict={image_batch:batch_x, Y_OHE_true:batch_y})\n",
    "    s_buffer = sess.run(summ, feed_dict={image_batch:batch_x, Y_OHE_true:batch_y})    # cost\n",
    "    writer.add_summary(s_buffer, i)"
   ]
  },
  {
   "cell_type": "code",
   "execution_count": 42,
   "metadata": {
    "scrolled": false
   },
   "outputs": [
    {
     "data": {
      "text/plain": [
       "0.5485609"
      ]
     },
     "execution_count": 42,
     "metadata": {},
     "output_type": "execute_result"
    }
   ],
   "source": [
    "sess.run(cost, feed_dict={image_batch:batch_x, Y_OHE_true:batch_y})     # Cost at last mini-batch"
   ]
  },
  {
   "cell_type": "code",
   "execution_count": 43,
   "metadata": {
    "scrolled": true
   },
   "outputs": [
    {
     "data": {
      "text/plain": [
       "array([ True,  True,  True, ...,  True, False,  True])"
      ]
     },
     "execution_count": 43,
     "metadata": {},
     "output_type": "execute_result"
    }
   ],
   "source": [
    "predictions = sess.run(tf.argmax(Z, axis=1), feed_dict={image_batch:mnist.test.images})\n",
    "\n",
    "acc = (predictions == np.argmax(mnist.test.labels,axis=1))\n",
    "acc"
   ]
  },
  {
   "cell_type": "code",
   "execution_count": 44,
   "metadata": {},
   "outputs": [
    {
     "data": {
      "text/plain": [
       "0.8502"
      ]
     },
     "execution_count": 44,
     "metadata": {},
     "output_type": "execute_result"
    }
   ],
   "source": [
    "acc.mean()"
   ]
  },
  {
   "cell_type": "code",
   "execution_count": 45,
   "metadata": {},
   "outputs": [
    {
     "data": {
      "text/plain": [
       "8502"
      ]
     },
     "execution_count": 45,
     "metadata": {},
     "output_type": "execute_result"
    }
   ],
   "source": [
    "acc.sum()"
   ]
  },
  {
   "cell_type": "code",
   "execution_count": null,
   "metadata": {},
   "outputs": [],
   "source": []
  },
  {
   "cell_type": "code",
   "execution_count": 46,
   "metadata": {},
   "outputs": [],
   "source": [
    "sess.close()\n",
    "writer.close()"
   ]
  },
  {
   "cell_type": "code",
   "execution_count": null,
   "metadata": {},
   "outputs": [],
   "source": []
  },
  {
   "cell_type": "code",
   "execution_count": null,
   "metadata": {},
   "outputs": [],
   "source": []
  }
 ],
 "metadata": {
  "kernelspec": {
   "display_name": "Python 3",
   "language": "python",
   "name": "python3"
  },
  "language_info": {
   "codemirror_mode": {
    "name": "ipython",
    "version": 3
   },
   "file_extension": ".py",
   "mimetype": "text/x-python",
   "name": "python",
   "nbconvert_exporter": "python",
   "pygments_lexer": "ipython3",
   "version": "3.6.7"
  }
 },
 "nbformat": 4,
 "nbformat_minor": 2
}
