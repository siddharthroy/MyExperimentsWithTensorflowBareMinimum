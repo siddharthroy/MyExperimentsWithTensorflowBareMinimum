{
 "cells": [
  {
   "cell_type": "markdown",
   "metadata": {},
   "source": [
    "# similar to previous experiment 3\n",
    "But with input as random numbers in [0,1)"
   ]
  },
  {
   "cell_type": "code",
   "execution_count": 1,
   "metadata": {},
   "outputs": [],
   "source": [
    "import numpy as np\n",
    "import tensorflow as tf"
   ]
  },
  {
   "cell_type": "code",
   "execution_count": 2,
   "metadata": {},
   "outputs": [],
   "source": [
    "tf.reset_default_graph()"
   ]
  },
  {
   "cell_type": "code",
   "execution_count": 3,
   "metadata": {},
   "outputs": [],
   "source": [
    "# IP and OP array both have two features X = x1,x2     Y = y1,y2\n",
    "X = tf.placeholder(tf.float32, shape=(None,2), name=\"X\")\n",
    "Y = tf.placeholder(tf.float32, shape=(None,2), name=\"Y\")"
   ]
  },
  {
   "cell_type": "code",
   "execution_count": 4,
   "metadata": {},
   "outputs": [],
   "source": [
    "# 1st layer with 3 nodes \n",
    "with tf.name_scope(\"Layer1\"):\n",
    "    W1 = tf.Variable(np.random.rand(2,3), dtype=tf.float32, name=\"W1\")    # For layer1. (rows:input leads. Col:layer nodes)\n",
    "    b1 = tf.Variable(np.random.rand(1,3), dtype=tf.float32, name = \"b1\")\n",
    "    \n",
    "    L1 = tf.matmul(X, W1, name=\"DotProduct_L1\") + b1     # Shape = (None, 3)\n",
    "    A1 = tf.nn.relu(L1, name=\"Relu\")                     # Shape = (None, 3)\n"
   ]
  },
  {
   "cell_type": "code",
   "execution_count": 5,
   "metadata": {},
   "outputs": [],
   "source": [
    "# 2nd layer with 2 nodes \n",
    "with tf.name_scope(\"Layer2\"):\n",
    "    W2 = tf.Variable(np.random.rand(3, 2), dtype=tf.float32, name=\"W2\")    # For layer2. (rows:layer1 nodes#. Col:layer2 nodes#)\n",
    "    b2 = tf.Variable(np.random.rand(1, 2), dtype=tf.float32, name = \"b2\")\n",
    "    \n",
    "    L2 = tf.matmul(A1, W2, name=\"DotProduct_L2\") + b2    # Shape = (None, 2)\n",
    "    A2 = tf.sigmoid(L2, name=\"Sigmoid\")                  # Shape = (None, 2)"
   ]
  },
  {
   "cell_type": "code",
   "execution_count": 6,
   "metadata": {},
   "outputs": [],
   "source": [
    "# Cost\n",
    "with tf.name_scope(\"COST\"):\n",
    "    loss = (Y - A2)**2     # Actually , Should be summed row-wise . But OK, as reduce_sum will handle this as well\n",
    "    cost = tf.sqrt(tf.reduce_sum(loss), name=\"Batch_Cost\")"
   ]
  },
  {
   "cell_type": "code",
   "execution_count": 7,
   "metadata": {},
   "outputs": [],
   "source": [
    "# Optimizer\n",
    "with tf.name_scope(\"Optimization\"):\n",
    "    optimizer = tf.train.AdamOptimizer(learning_rate=0.001)\n",
    "    set_to_minimize = optimizer.minimize(cost, name=\"BackPropagate\")"
   ]
  },
  {
   "cell_type": "code",
   "execution_count": 8,
   "metadata": {},
   "outputs": [],
   "source": [
    "init = tf.global_variables_initializer()"
   ]
  },
  {
   "cell_type": "code",
   "execution_count": 9,
   "metadata": {},
   "outputs": [],
   "source": [
    "#Prepare input and output batch\n",
    "np.random.seed(111)\n",
    "X_arr = np.random.rand(1000, 2)    # Batch size = 1000\n",
    "Y_arr = np.random.rand(1000, 2)"
   ]
  },
  {
   "cell_type": "code",
   "execution_count": 10,
   "metadata": {},
   "outputs": [],
   "source": [
    "summ = tf.summary.scalar(\"Cost\", cost)"
   ]
  },
  {
   "cell_type": "code",
   "execution_count": 11,
   "metadata": {},
   "outputs": [],
   "source": [
    "# Show graph so far\n",
    "writer = tf.summary.FileWriter(\"./graph\", graph=tf.get_default_graph())"
   ]
  },
  {
   "cell_type": "code",
   "execution_count": 12,
   "metadata": {},
   "outputs": [],
   "source": [
    "sess = tf.Session()\n",
    "sess.run(init)"
   ]
  },
  {
   "cell_type": "code",
   "execution_count": 13,
   "metadata": {},
   "outputs": [],
   "source": [
    "for i in range(10000):\n",
    "    sess.run(set_to_minimize, feed_dict={X:X_arr, Y:Y_arr})\n",
    "    s_buffer = sess.run(summ, feed_dict={X:X_arr, Y:Y_arr})\n",
    "    writer.add_summary(s_buffer, i)"
   ]
  },
  {
   "cell_type": "code",
   "execution_count": 14,
   "metadata": {},
   "outputs": [],
   "source": [
    "sess.close()\n",
    "writer.close()"
   ]
  }
 ],
 "metadata": {
  "kernelspec": {
   "display_name": "Python 3",
   "language": "python",
   "name": "python3"
  },
  "language_info": {
   "codemirror_mode": {
    "name": "ipython",
    "version": 3
   },
   "file_extension": ".py",
   "mimetype": "text/x-python",
   "name": "python",
   "nbconvert_exporter": "python",
   "pygments_lexer": "ipython3",
   "version": "3.6.7"
  }
 },
 "nbformat": 4,
 "nbformat_minor": 2
}
