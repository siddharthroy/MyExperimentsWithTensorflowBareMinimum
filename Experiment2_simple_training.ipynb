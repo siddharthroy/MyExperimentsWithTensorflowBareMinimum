{
 "cells": [
  {
   "cell_type": "code",
   "execution_count": 1,
   "metadata": {},
   "outputs": [],
   "source": [
    "import numpy as np\n",
    "import tensorflow as tf"
   ]
  },
  {
   "cell_type": "markdown",
   "metadata": {},
   "source": [
    "# Create a Regression graph (DAG)"
   ]
  },
  {
   "cell_type": "code",
   "execution_count": 3,
   "metadata": {},
   "outputs": [],
   "source": [
    "x_ph = tf.placeholder(tf.float32, name=\"Input_values\")    \n",
    "y_ph = tf.placeholder(tf.float32, name=\"Output_values\")"
   ]
  },
  {
   "cell_type": "code",
   "execution_count": 4,
   "metadata": {},
   "outputs": [],
   "source": [
    "m = tf.Variable(initial_value=0.1, name=\"m\")\n",
    "b = tf.Variable(initial_value=1.,  name=\"b\")"
   ]
  },
  {
   "cell_type": "code",
   "execution_count": 5,
   "metadata": {},
   "outputs": [],
   "source": [
    "# DAG: y = mx+b\n",
    "\n",
    "y_hat = m*x_ph + b       # If you feed values, you will get o/p. But needs to be tuned for least loss possible"
   ]
  },
  {
   "cell_type": "code",
   "execution_count": 6,
   "metadata": {},
   "outputs": [],
   "source": [
    "losses = tf.square(y_ph - y_hat, name=\"losses_from_every_batch_of_input\")   # Element wise difference"
   ]
  },
  {
   "cell_type": "code",
   "execution_count": 7,
   "metadata": {},
   "outputs": [],
   "source": [
    "cost = tf.sqrt( tf.reduce_sum(losses), name=\"final_cost_after_all_batches\" )       # Cost on the current batch"
   ]
  },
  {
   "cell_type": "code",
   "execution_count": 8,
   "metadata": {},
   "outputs": [],
   "source": [
    "# Training: Minimise the cost by changing m & b\n",
    "\n",
    "optimizer = tf.train.GradientDescentOptimizer(learning_rate=0.001)\n",
    "set_to_optimize = optimizer.minimize(cost)       # a). Just single step descent,    b). using the current batch only\n",
    "                                        # And in the due course only variables (not placeholder) will be updated"
   ]
  },
  {
   "cell_type": "markdown",
   "metadata": {},
   "source": [
    "# Tensorboard visuals"
   ]
  },
  {
   "cell_type": "code",
   "execution_count": 10,
   "metadata": {},
   "outputs": [],
   "source": [
    "# 1st create a summary operation that will dump all output as you instruct later\n",
    "writer = tf.summary.FileWriter(\"./log_dir\", graph=tf.get_default_graph())   # Dump the whole graph also"
   ]
  },
  {
   "cell_type": "markdown",
   "metadata": {},
   "source": [
    "At this point the graph can be viewed. Open CMD and follow type below:<br>\n",
    "1. cd < folder_path_of_the_log_dir_created_above >\n",
    "2. activate < environment_name_in_which_tensorflow_installed >\n",
    "3. tensorboard --logdir .\n",
    "            Notice the dot at last\n",
    "            Now you will get a URL link. Copy & paste it in browser. Violla, tensorboard is visible now\n"
   ]
  },
  {
   "cell_type": "code",
   "execution_count": 14,
   "metadata": {},
   "outputs": [],
   "source": [
    "# Attach the summary-op to all nodes wherever you want to capture scalars. Summary-op was created above\n",
    "loss_summ = tf.summary.histogram(\"losses\", losses)\n",
    "cost_summ = tf.summary.scalar('total_cost', cost)    \n",
    "m_summ = tf.summary.scalar(\"slope\", m)\n",
    "b_summ = tf.summary.scalar(\"intercept\", b)"
   ]
  },
  {
   "cell_type": "code",
   "execution_count": 9,
   "metadata": {},
   "outputs": [],
   "source": [
    "init = tf.global_variables_initializer()"
   ]
  },
  {
   "cell_type": "code",
   "execution_count": 12,
   "metadata": {},
   "outputs": [],
   "source": [
    "# You actual whole dataset (millions of points)\n",
    "x = np.linspace(1,10,100000) + np.random.uniform(-1.5, 1.5, 100000)\n",
    "y = np.linspace(1,10,100000) + np.random.uniform(-1.5, 1.5, 100000)"
   ]
  },
  {
   "cell_type": "markdown",
   "metadata": {},
   "source": [
    "# Just keep on feeding your input one at a time, and fetch the result"
   ]
  },
  {
   "cell_type": "code",
   "execution_count": 15,
   "metadata": {},
   "outputs": [
    {
     "data": {
      "text/plain": [
       "(0.8617424, 0.79837495)"
      ]
     },
     "execution_count": 15,
     "metadata": {},
     "output_type": "execute_result"
    }
   ],
   "source": [
    "# All setup by now\n",
    "# Go ahead and feed in values and generate results\n",
    "\n",
    "# But Graph will be traversed and executed by another object, named Session\n",
    "sess = tf.Session()\n",
    "sess.run(init)   # Needed for variable initialization. (as per the value you already told them)\n",
    "\n",
    "tot_iterations = 500\n",
    "batch_size = 100      # Mini batch\n",
    "\n",
    "for i in range(tot_iterations):\n",
    "    sample_idx = np.random.randint(0,x.size, size=batch_size)\n",
    "\n",
    "    # Create one mini-batch\n",
    "    x_sample = x[sample_idx]\n",
    "    y_sample = y[sample_idx]\n",
    "\n",
    "    # Run single step of optimization\n",
    "    sess.run(set_to_optimize, feed_dict={x_ph:x_sample, y_ph:y_sample})\n",
    "    \n",
    "    #At the saem time generate loss , cost for tensorboard \n",
    "    loss_buffer = sess.run(loss_summ, feed_dict={x_ph:x_sample, y_ph:y_sample})\n",
    "    cost_buffer = sess.run(cost_summ, feed_dict={x_ph:x_sample, y_ph:y_sample})\n",
    "    m_buffer = sess.run(m_summ, feed_dict={x_ph:x_sample, y_ph:y_sample})\n",
    "    b_buffer = sess.run(b_summ, feed_dict={x_ph:x_sample, y_ph:y_sample})\n",
    "    # And dump into event file\n",
    "    writer.add_summary(loss_buffer, i)\n",
    "    writer.add_summary(cost_buffer, i)\n",
    "    writer.add_summary(m_buffer, i)\n",
    "    writer.add_summary(b_buffer, i)\n",
    "\n",
    "#OK , you finished optimization on many mini-batches. Get the trained values of m & b\n",
    "model_m, model_b = sess.run([m, b])\n",
    "    \n",
    "model_m, model_b"
   ]
  }
 ],
 "metadata": {
  "kernelspec": {
   "display_name": "Python 3",
   "language": "python",
   "name": "python3"
  },
  "language_info": {
   "codemirror_mode": {
    "name": "ipython",
    "version": 3
   },
   "file_extension": ".py",
   "mimetype": "text/x-python",
   "name": "python",
   "nbconvert_exporter": "python",
   "pygments_lexer": "ipython3",
   "version": "3.6.7"
  }
 },
 "nbformat": 4,
 "nbformat_minor": 2
}
