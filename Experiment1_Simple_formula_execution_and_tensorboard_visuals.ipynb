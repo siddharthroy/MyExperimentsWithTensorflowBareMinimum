{
 "cells": [
  {
   "cell_type": "code",
   "execution_count": null,
   "metadata": {},
   "outputs": [],
   "source": [
    "import tensorflow as tf"
   ]
  },
  {
   "cell_type": "code",
   "execution_count": null,
   "metadata": {},
   "outputs": [],
   "source": [
    "# Create non-tranable stuff that actually will be fed by you during training\n",
    "x_ph = tf.placeholder(tf.float32, name=\"My_Input_value\")"
   ]
  },
  {
   "cell_type": "markdown",
   "metadata": {},
   "source": [
    "# Create a simple graph (DAG)"
   ]
  },
  {
   "cell_type": "code",
   "execution_count": null,
   "metadata": {},
   "outputs": [],
   "source": [
    "# Using a tensor (i.e. x_ph) and non-tensor stuff (number,eg. 2. Under the hood it auto converts into tensor constant)\n",
    "twice = 2*x_ph"
   ]
  },
  {
   "cell_type": "markdown",
   "metadata": {},
   "source": [
    "# Just keep on feeding your input one at a time, and fetch the result"
   ]
  },
  {
   "cell_type": "code",
   "execution_count": null,
   "metadata": {},
   "outputs": [],
   "source": [
    "# Actually fetch the result in graphical form (in tensorboard)\n",
    "# 1st create a summary operation that will dump all output as you instruct later\n",
    "writer = tf.summary.FileWriter(\"./log_dir\", graph=tf.get_default_graph())   # Dump the whole graph also"
   ]
  },
  {
   "cell_type": "markdown",
   "metadata": {},
   "source": [
    "At this point the graph can be viewed. Open CMD and follow type below:<br>\n",
    "1. cd < folder_path_of_the_log_dir_created_above >\n",
    "2. activate < environment_name_in_which_tensorflow_installed >\n",
    "3. tensorboard --logdir .\n",
    "            Notice the dot at last\n",
    "            Now you will get a URL link. Copy & paste it in browser. Violla, tensorboard is visible now\n"
   ]
  },
  {
   "cell_type": "code",
   "execution_count": null,
   "metadata": {},
   "outputs": [],
   "source": [
    "# Now you want to feed in values and visualize how the DAG generates output\n",
    "\n",
    "# Attach the summary-op to all nodes wherever you want to capture scalars. Summary-op was created above\n",
    "x_summ = tf.summary.scalar('x_ph', x_ph)    \n",
    "y_summ = tf.summary.scalar(\"outputs\", twice)"
   ]
  },
  {
   "cell_type": "code",
   "execution_count": null,
   "metadata": {},
   "outputs": [],
   "source": [
    "# All setup by now\n",
    "# Go ahead and feed in values and generate results\n",
    "\n",
    "# But Graph will be traversed and executed by another object, named Session\n",
    "sess = tf.Session()\n",
    "for i in range(10):\n",
    "    # Below is how Session object traverses DAG till input and intakes your values \n",
    "    #      (but we are not going to use the output, so commented)\n",
    "    #sess.run(twice, feed_dict={x_ph: i*5.0})       \n",
    "    \n",
    "    # Execute the summary-ops (attached at whatever nodes), and create summary buffers\n",
    "    x_summ_buffer = sess.run(x_summ, feed_dict={x_ph: i*5.0})\n",
    "    y_summ_buffer = sess.run(y_summ, feed_dict={x_ph: i*5.0})\n",
    "    writer.add_summary(x_summ_buffer,global_step=i)     # Here you go. Just dumping the buffers in logdir\n",
    "    writer.add_summary(y_summ_buffer,global_step=i)     # Here you go. Just dumping the buffers in logdir "
   ]
  },
  {
   "cell_type": "code",
   "execution_count": null,
   "metadata": {},
   "outputs": [],
   "source": [
    "sess.close()\n",
    "writer.close()"
   ]
  },
  {
   "cell_type": "markdown",
   "metadata": {},
   "source": [
    "<b> You are done. Just refresh the browser and see the results "
   ]
  }
 ],
 "metadata": {
  "kernelspec": {
   "display_name": "Python 3",
   "language": "python",
   "name": "python3"
  },
  "language_info": {
   "codemirror_mode": {
    "name": "ipython",
    "version": 3
   },
   "file_extension": ".py",
   "mimetype": "text/x-python",
   "name": "python",
   "nbconvert_exporter": "python",
   "pygments_lexer": "ipython3",
   "version": "3.6.7"
  }
 },
 "nbformat": 4,
 "nbformat_minor": 2
}
